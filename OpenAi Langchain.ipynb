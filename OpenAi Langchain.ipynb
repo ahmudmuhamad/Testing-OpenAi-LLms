{
 "cells": [
  {
   "cell_type": "code",
   "execution_count": 1,
   "metadata": {},
   "outputs": [],
   "source": [
    "import sqlite3\n",
    "import pandas as pd\n",
    "import os"
   ]
  },
  {
   "cell_type": "code",
   "execution_count": 2,
   "metadata": {},
   "outputs": [],
   "source": [
    "db = sqlite3.connect('d:\\me\\Grad\\ds5b.full.db')"
   ]
  },
  {
   "cell_type": "code",
   "execution_count": 3,
   "metadata": {},
   "outputs": [],
   "source": [
    "categories = pd.read_sql_query('select * from categories', db)"
   ]
  },
  {
   "cell_type": "code",
   "execution_count": 4,
   "metadata": {},
   "outputs": [
    {
     "data": {
      "text/html": [
       "<div>\n",
       "<style scoped>\n",
       "    .dataframe tbody tr th:only-of-type {\n",
       "        vertical-align: middle;\n",
       "    }\n",
       "\n",
       "    .dataframe tbody tr th {\n",
       "        vertical-align: top;\n",
       "    }\n",
       "\n",
       "    .dataframe thead th {\n",
       "        text-align: right;\n",
       "    }\n",
       "</style>\n",
       "<table border=\"1\" class=\"dataframe\">\n",
       "  <thead>\n",
       "    <tr style=\"text-align: right;\">\n",
       "      <th></th>\n",
       "      <th>id</th>\n",
       "      <th>name</th>\n",
       "    </tr>\n",
       "  </thead>\n",
       "  <tbody>\n",
       "    <tr>\n",
       "      <th>0</th>\n",
       "      <td>1</td>\n",
       "      <td>الامراض الجلدية</td>\n",
       "    </tr>\n",
       "    <tr>\n",
       "      <th>1</th>\n",
       "      <td>2</td>\n",
       "      <td>الامراض الجنسية</td>\n",
       "    </tr>\n",
       "    <tr>\n",
       "      <th>2</th>\n",
       "      <td>3</td>\n",
       "      <td>الاورام الخبيثة والحميدة</td>\n",
       "    </tr>\n",
       "    <tr>\n",
       "      <th>3</th>\n",
       "      <td>4</td>\n",
       "      <td>الطب العام</td>\n",
       "    </tr>\n",
       "    <tr>\n",
       "      <th>4</th>\n",
       "      <td>5</td>\n",
       "      <td>امراض الاطفال</td>\n",
       "    </tr>\n",
       "  </tbody>\n",
       "</table>\n",
       "</div>"
      ],
      "text/plain": [
       "   id                      name\n",
       "0   1           الامراض الجلدية\n",
       "1   2           الامراض الجنسية\n",
       "2   3  الاورام الخبيثة والحميدة\n",
       "3   4                الطب العام\n",
       "4   5             امراض الاطفال"
      ]
     },
     "execution_count": 4,
     "metadata": {},
     "output_type": "execute_result"
    }
   ],
   "source": [
    "categories.head()"
   ]
  },
  {
   "cell_type": "code",
   "execution_count": 24,
   "metadata": {},
   "outputs": [],
   "source": [
    "categories.set_index('id', inplace=True)\n"
   ]
  },
  {
   "cell_type": "code",
   "execution_count": 17,
   "metadata": {},
   "outputs": [],
   "source": [
    "llm = OpenAI(temperature=0)\n",
    "tools = load_tools([\"serpapi\", \"llm-math\"], llm=llm)\n",
    "agent = initialize_agent(tools, llm, agent=AgentType.ZERO_SHOT_REACT_DESCRIPTION)\n"
   ]
  },
  {
   "cell_type": "code",
   "execution_count": 25,
   "metadata": {},
   "outputs": [
    {
     "data": {
      "text/html": [
       "<div>\n",
       "<style scoped>\n",
       "    .dataframe tbody tr th:only-of-type {\n",
       "        vertical-align: middle;\n",
       "    }\n",
       "\n",
       "    .dataframe tbody tr th {\n",
       "        vertical-align: top;\n",
       "    }\n",
       "\n",
       "    .dataframe thead th {\n",
       "        text-align: right;\n",
       "    }\n",
       "</style>\n",
       "<table border=\"1\" class=\"dataframe\">\n",
       "  <thead>\n",
       "    <tr style=\"text-align: right;\">\n",
       "      <th></th>\n",
       "      <th>name</th>\n",
       "    </tr>\n",
       "    <tr>\n",
       "      <th>id</th>\n",
       "      <th></th>\n",
       "    </tr>\n",
       "  </thead>\n",
       "  <tbody>\n",
       "    <tr>\n",
       "      <th>1</th>\n",
       "      <td>الامراض الجلدية</td>\n",
       "    </tr>\n",
       "    <tr>\n",
       "      <th>2</th>\n",
       "      <td>الامراض الجنسية</td>\n",
       "    </tr>\n",
       "    <tr>\n",
       "      <th>3</th>\n",
       "      <td>الاورام الخبيثة والحميدة</td>\n",
       "    </tr>\n",
       "    <tr>\n",
       "      <th>4</th>\n",
       "      <td>الطب العام</td>\n",
       "    </tr>\n",
       "    <tr>\n",
       "      <th>5</th>\n",
       "      <td>امراض الاطفال</td>\n",
       "    </tr>\n",
       "  </tbody>\n",
       "</table>\n",
       "</div>"
      ],
      "text/plain": [
       "                        name\n",
       "id                          \n",
       "1            الامراض الجلدية\n",
       "2            الامراض الجنسية\n",
       "3   الاورام الخبيثة والحميدة\n",
       "4                 الطب العام\n",
       "5              امراض الاطفال"
      ]
     },
     "execution_count": 25,
     "metadata": {},
     "output_type": "execute_result"
    }
   ],
   "source": [
    "categories.head()"
   ]
  },
  {
   "cell_type": "code",
   "execution_count": 26,
   "metadata": {},
   "outputs": [
    {
     "data": {
      "text/plain": [
       "Index(['name'], dtype='object')"
      ]
     },
     "execution_count": 26,
     "metadata": {},
     "output_type": "execute_result"
    }
   ],
   "source": [
    "categories.columns"
   ]
  },
  {
   "cell_type": "code",
   "execution_count": 6,
   "metadata": {},
   "outputs": [
    {
     "data": {
      "text/plain": [
       "<bound method IndexOpsMixin.value_counts of 0                      الامراض الجلدية\n",
       "1                      الامراض الجنسية\n",
       "2             الاورام الخبيثة والحميدة\n",
       "3                           الطب العام\n",
       "4                        امراض الاطفال\n",
       "5                 امراض الجهاز التنفسي\n",
       "6                  امراض الجهاز الهضمي\n",
       "7                           امراض الدم\n",
       "8      امراض العضلات والعظام و المفاصل\n",
       "9                         امراض العيون\n",
       "10                  امراض الغدد الصماء\n",
       "11              امراض القلب و الشرايين\n",
       "12    امراض المسالك البولية والتناسلية\n",
       "13                        امراض باطنية\n",
       "14                        امراض نسائية\n",
       "15                  امراض نفسية وعصبية\n",
       "16                      انف اذن وحنجرة\n",
       "17                         جراحة تجميل\n",
       "18                          جراحة عامة\n",
       "19                          طب الاسنان\n",
       "Name: name, dtype: object>"
      ]
     },
     "execution_count": 6,
     "metadata": {},
     "output_type": "execute_result"
    }
   ],
   "source": [
    "categories['name'].value_counts"
   ]
  },
  {
   "cell_type": "code",
   "execution_count": 7,
   "metadata": {},
   "outputs": [
    {
     "data": {
      "text/html": [
       "<div>\n",
       "<style scoped>\n",
       "    .dataframe tbody tr th:only-of-type {\n",
       "        vertical-align: middle;\n",
       "    }\n",
       "\n",
       "    .dataframe tbody tr th {\n",
       "        vertical-align: top;\n",
       "    }\n",
       "\n",
       "    .dataframe thead th {\n",
       "        text-align: right;\n",
       "    }\n",
       "</style>\n",
       "<table border=\"1\" class=\"dataframe\">\n",
       "  <thead>\n",
       "    <tr style=\"text-align: right;\">\n",
       "      <th></th>\n",
       "      <th>q_body</th>\n",
       "      <th>a_body</th>\n",
       "      <th>q_body_count</th>\n",
       "      <th>a_body_count</th>\n",
       "      <th>category</th>\n",
       "      <th>category_id</th>\n",
       "    </tr>\n",
       "  </thead>\n",
       "  <tbody>\n",
       "    <tr>\n",
       "      <th>0</th>\n",
       "      <td>‏ انا طولي 169 وزني 58 هل ممكن زياده طولي الي ...</td>\n",
       "      <td>اقدم طريقه لاطاله القامه هي اطاله عظام الرجلين...</td>\n",
       "      <td>16</td>\n",
       "      <td>73</td>\n",
       "      <td>امراض الغدد الصماء</td>\n",
       "      <td>11</td>\n",
       "    </tr>\n",
       "    <tr>\n",
       "      <th>1</th>\n",
       "      <td>‏ ن ا تجيني الدوره ف ي اليوم 10 من كل شهر ولكن...</td>\n",
       "      <td>انتظريها عالموعد الجديد</td>\n",
       "      <td>37</td>\n",
       "      <td>3</td>\n",
       "      <td>امراض نسائية</td>\n",
       "      <td>15</td>\n",
       "    </tr>\n",
       "    <tr>\n",
       "      <th>2</th>\n",
       "      <td>1 اشعر بالام شديد في الثدين اثناء النوم 2 اشعر...</td>\n",
       "      <td>تواصلي واتس للتوضيح اكثر</td>\n",
       "      <td>20</td>\n",
       "      <td>4</td>\n",
       "      <td>الاورام الخبيثة والحميدة</td>\n",
       "      <td>3</td>\n",
       "    </tr>\n",
       "    <tr>\n",
       "      <th>3</th>\n",
       "      <td>1 اعاني من دوالي في الخصيه اليسري 2 اجريت عملي...</td>\n",
       "      <td>يجب اولا عمل دوبلر علي كيس الصفن والجينسينج لت...</td>\n",
       "      <td>37</td>\n",
       "      <td>80</td>\n",
       "      <td>امراض المسالك البولية والتناسلية</td>\n",
       "      <td>13</td>\n",
       "    </tr>\n",
       "    <tr>\n",
       "      <th>4</th>\n",
       "      <td>1 انا ام لطفلين بالولاده القيصريه وتعرضت للاجه...</td>\n",
       "      <td>راجعي طبيبك</td>\n",
       "      <td>29</td>\n",
       "      <td>2</td>\n",
       "      <td>امراض نسائية</td>\n",
       "      <td>15</td>\n",
       "    </tr>\n",
       "    <tr>\n",
       "      <th>...</th>\n",
       "      <td>...</td>\n",
       "      <td>...</td>\n",
       "      <td>...</td>\n",
       "      <td>...</td>\n",
       "      <td>...</td>\n",
       "      <td>...</td>\n",
       "    </tr>\n",
       "    <tr>\n",
       "      <th>434538</th>\n",
       "      <td>يوم دورتي 23 اوت واريد تاخيرها بعشره ايامم الح...</td>\n",
       "      <td>خذي حبوب الجرافيولا</td>\n",
       "      <td>10</td>\n",
       "      <td>3</td>\n",
       "      <td>امراض نسائية</td>\n",
       "      <td>15</td>\n",
       "    </tr>\n",
       "    <tr>\n",
       "      <th>434539</th>\n",
       "      <td>يوم دورتي 25 نوفمبر واليوم الاخير 2 ديسمبر مع ...</td>\n",
       "      <td>بالتاكيد اذا الحساسيههل مانع حمل فانتي عرضه للحمل</td>\n",
       "      <td>18</td>\n",
       "      <td>8</td>\n",
       "      <td>امراض نسائية</td>\n",
       "      <td>15</td>\n",
       "    </tr>\n",
       "    <tr>\n",
       "      <th>434540</th>\n",
       "      <td>يوم كان عمري 8 سنوات كنت ابيض جدا والحين عمري ...</td>\n",
       "      <td>لا بابايا ولا مامايا هذا لونك الطبيعي وسلامتك</td>\n",
       "      <td>22</td>\n",
       "      <td>8</td>\n",
       "      <td>الامراض الجلدية</td>\n",
       "      <td>1</td>\n",
       "    </tr>\n",
       "    <tr>\n",
       "      <th>434541</th>\n",
       "      <td>يوم نزول الدوره كان يوم الثلاثناء 29 مارس ويوم...</td>\n",
       "      <td>الاحتمال ضعيف جدا</td>\n",
       "      <td>29</td>\n",
       "      <td>3</td>\n",
       "      <td>الامراض الجنسية</td>\n",
       "      <td>2</td>\n",
       "    </tr>\n",
       "    <tr>\n",
       "      <th>434542</th>\n",
       "      <td>يوما ما كنت طبيعي وسليم وكانت حياتي سعيده ف اذ...</td>\n",
       "      <td>حاله نفسيه عاديه عليك تحسين لياقتك البدنيه بمم...</td>\n",
       "      <td>35</td>\n",
       "      <td>54</td>\n",
       "      <td>الامراض الجنسية</td>\n",
       "      <td>2</td>\n",
       "    </tr>\n",
       "  </tbody>\n",
       "</table>\n",
       "<p>434543 rows × 6 columns</p>\n",
       "</div>"
      ],
      "text/plain": [
       "                                                   q_body  \\\n",
       "0       ‏ انا طولي 169 وزني 58 هل ممكن زياده طولي الي ...   \n",
       "1       ‏ ن ا تجيني الدوره ف ي اليوم 10 من كل شهر ولكن...   \n",
       "2       1 اشعر بالام شديد في الثدين اثناء النوم 2 اشعر...   \n",
       "3       1 اعاني من دوالي في الخصيه اليسري 2 اجريت عملي...   \n",
       "4       1 انا ام لطفلين بالولاده القيصريه وتعرضت للاجه...   \n",
       "...                                                   ...   \n",
       "434538  يوم دورتي 23 اوت واريد تاخيرها بعشره ايامم الح...   \n",
       "434539  يوم دورتي 25 نوفمبر واليوم الاخير 2 ديسمبر مع ...   \n",
       "434540  يوم كان عمري 8 سنوات كنت ابيض جدا والحين عمري ...   \n",
       "434541  يوم نزول الدوره كان يوم الثلاثناء 29 مارس ويوم...   \n",
       "434542  يوما ما كنت طبيعي وسليم وكانت حياتي سعيده ف اذ...   \n",
       "\n",
       "                                                   a_body  q_body_count  \\\n",
       "0       اقدم طريقه لاطاله القامه هي اطاله عظام الرجلين...            16   \n",
       "1                                 انتظريها عالموعد الجديد            37   \n",
       "2                                تواصلي واتس للتوضيح اكثر            20   \n",
       "3       يجب اولا عمل دوبلر علي كيس الصفن والجينسينج لت...            37   \n",
       "4                                             راجعي طبيبك            29   \n",
       "...                                                   ...           ...   \n",
       "434538                                خذي حبوب الجرافيولا            10   \n",
       "434539  بالتاكيد اذا الحساسيههل مانع حمل فانتي عرضه للحمل            18   \n",
       "434540      لا بابايا ولا مامايا هذا لونك الطبيعي وسلامتك            22   \n",
       "434541                                  الاحتمال ضعيف جدا            29   \n",
       "434542  حاله نفسيه عاديه عليك تحسين لياقتك البدنيه بمم...            35   \n",
       "\n",
       "        a_body_count                          category  category_id  \n",
       "0                 73                امراض الغدد الصماء           11  \n",
       "1                  3                      امراض نسائية           15  \n",
       "2                  4          الاورام الخبيثة والحميدة            3  \n",
       "3                 80  امراض المسالك البولية والتناسلية           13  \n",
       "4                  2                      امراض نسائية           15  \n",
       "...              ...                               ...          ...  \n",
       "434538             3                      امراض نسائية           15  \n",
       "434539             8                      امراض نسائية           15  \n",
       "434540             8                   الامراض الجلدية            1  \n",
       "434541             3                   الامراض الجنسية            2  \n",
       "434542            54                   الامراض الجنسية            2  \n",
       "\n",
       "[434543 rows x 6 columns]"
      ]
     },
     "execution_count": 7,
     "metadata": {},
     "output_type": "execute_result"
    }
   ],
   "source": [
    "q_a = pd.read_sql_query('select * from ds5b', db)\n",
    "q_a"
   ]
  },
  {
   "cell_type": "code",
   "execution_count": 8,
   "metadata": {},
   "outputs": [
    {
     "data": {
      "text/plain": [
       "(434543, 6)"
      ]
     },
     "execution_count": 8,
     "metadata": {},
     "output_type": "execute_result"
    }
   ],
   "source": [
    "q_a.shape"
   ]
  },
  {
   "cell_type": "code",
   "execution_count": 52,
   "metadata": {},
   "outputs": [
    {
     "data": {
      "text/html": [
       "<div>\n",
       "<style scoped>\n",
       "    .dataframe tbody tr th:only-of-type {\n",
       "        vertical-align: middle;\n",
       "    }\n",
       "\n",
       "    .dataframe tbody tr th {\n",
       "        vertical-align: top;\n",
       "    }\n",
       "\n",
       "    .dataframe thead th {\n",
       "        text-align: right;\n",
       "    }\n",
       "</style>\n",
       "<table border=\"1\" class=\"dataframe\">\n",
       "  <thead>\n",
       "    <tr style=\"text-align: right;\">\n",
       "      <th></th>\n",
       "      <th>q_body_count</th>\n",
       "      <th>a_body_count</th>\n",
       "      <th>category_id</th>\n",
       "    </tr>\n",
       "  </thead>\n",
       "  <tbody>\n",
       "    <tr>\n",
       "      <th>count</th>\n",
       "      <td>434543.000000</td>\n",
       "      <td>434543.000000</td>\n",
       "      <td>434543.000000</td>\n",
       "    </tr>\n",
       "    <tr>\n",
       "      <th>mean</th>\n",
       "      <td>23.308681</td>\n",
       "      <td>19.432664</td>\n",
       "      <td>10.962020</td>\n",
       "    </tr>\n",
       "    <tr>\n",
       "      <th>std</th>\n",
       "      <td>12.213042</td>\n",
       "      <td>18.115875</td>\n",
       "      <td>5.613693</td>\n",
       "    </tr>\n",
       "    <tr>\n",
       "      <th>min</th>\n",
       "      <td>2.000000</td>\n",
       "      <td>2.000000</td>\n",
       "      <td>1.000000</td>\n",
       "    </tr>\n",
       "    <tr>\n",
       "      <th>25%</th>\n",
       "      <td>14.000000</td>\n",
       "      <td>7.000000</td>\n",
       "      <td>6.000000</td>\n",
       "    </tr>\n",
       "    <tr>\n",
       "      <th>50%</th>\n",
       "      <td>23.000000</td>\n",
       "      <td>14.000000</td>\n",
       "      <td>13.000000</td>\n",
       "    </tr>\n",
       "    <tr>\n",
       "      <th>75%</th>\n",
       "      <td>31.000000</td>\n",
       "      <td>25.000000</td>\n",
       "      <td>15.000000</td>\n",
       "    </tr>\n",
       "    <tr>\n",
       "      <th>max</th>\n",
       "      <td>100.000000</td>\n",
       "      <td>100.000000</td>\n",
       "      <td>20.000000</td>\n",
       "    </tr>\n",
       "  </tbody>\n",
       "</table>\n",
       "</div>"
      ],
      "text/plain": [
       "        q_body_count   a_body_count    category_id\n",
       "count  434543.000000  434543.000000  434543.000000\n",
       "mean       23.308681      19.432664      10.962020\n",
       "std        12.213042      18.115875       5.613693\n",
       "min         2.000000       2.000000       1.000000\n",
       "25%        14.000000       7.000000       6.000000\n",
       "50%        23.000000      14.000000      13.000000\n",
       "75%        31.000000      25.000000      15.000000\n",
       "max       100.000000     100.000000      20.000000"
      ]
     },
     "execution_count": 52,
     "metadata": {},
     "output_type": "execute_result"
    }
   ],
   "source": [
    "q_a.describe()"
   ]
  },
  {
   "cell_type": "code",
   "execution_count": 9,
   "metadata": {},
   "outputs": [
    {
     "data": {
      "text/plain": [
       "q_body          0\n",
       "a_body          0\n",
       "q_body_count    0\n",
       "a_body_count    0\n",
       "category        0\n",
       "category_id     0\n",
       "dtype: int64"
      ]
     },
     "execution_count": 9,
     "metadata": {},
     "output_type": "execute_result"
    }
   ],
   "source": [
    "q_a.isnull().sum()"
   ]
  },
  {
   "cell_type": "code",
   "execution_count": 10,
   "metadata": {},
   "outputs": [
    {
     "data": {
      "text/plain": [
       "Index(['q_body', 'a_body', 'q_body_count', 'a_body_count', 'category',\n",
       "       'category_id'],\n",
       "      dtype='object')"
      ]
     },
     "execution_count": 10,
     "metadata": {},
     "output_type": "execute_result"
    }
   ],
   "source": [
    "q_a.columns"
   ]
  },
  {
   "cell_type": "code",
   "execution_count": 11,
   "metadata": {},
   "outputs": [
    {
     "name": "stdout",
     "output_type": "stream",
     "text": [
      "<class 'pandas.core.frame.DataFrame'>\n",
      "RangeIndex: 434543 entries, 0 to 434542\n",
      "Data columns (total 6 columns):\n",
      " #   Column        Non-Null Count   Dtype \n",
      "---  ------        --------------   ----- \n",
      " 0   q_body        434543 non-null  object\n",
      " 1   a_body        434543 non-null  object\n",
      " 2   q_body_count  434543 non-null  int64 \n",
      " 3   a_body_count  434543 non-null  int64 \n",
      " 4   category      434543 non-null  object\n",
      " 5   category_id   434543 non-null  int64 \n",
      "dtypes: int64(3), object(3)\n",
      "memory usage: 19.9+ MB\n"
     ]
    }
   ],
   "source": [
    "q_a.info()"
   ]
  },
  {
   "cell_type": "code",
   "execution_count": 13,
   "metadata": {},
   "outputs": [
    {
     "data": {
      "text/plain": [
       "0         ‏ انا طولي 169 وزني 58 هل ممكن زياده طولي الي ...\n",
       "1         ‏ ن ا تجيني الدوره ف ي اليوم 10 من كل شهر ولكن...\n",
       "2         1 اشعر بالام شديد في الثدين اثناء النوم 2 اشعر...\n",
       "3         1 اعاني من دوالي في الخصيه اليسري 2 اجريت عملي...\n",
       "4         1 انا ام لطفلين بالولاده القيصريه وتعرضت للاجه...\n",
       "                                ...                        \n",
       "434538    يوم دورتي 23 اوت واريد تاخيرها بعشره ايامم الح...\n",
       "434539    يوم دورتي 25 نوفمبر واليوم الاخير 2 ديسمبر مع ...\n",
       "434540    يوم كان عمري 8 سنوات كنت ابيض جدا والحين عمري ...\n",
       "434541    يوم نزول الدوره كان يوم الثلاثناء 29 مارس ويوم...\n",
       "434542    يوما ما كنت طبيعي وسليم وكانت حياتي سعيده ف اذ...\n",
       "Name: q_body, Length: 434543, dtype: object"
      ]
     },
     "execution_count": 13,
     "metadata": {},
     "output_type": "execute_result"
    }
   ],
   "source": [
    "q_a['q_body']"
   ]
  },
  {
   "cell_type": "code",
   "execution_count": 12,
   "metadata": {},
   "outputs": [
    {
     "data": {
      "text/plain": [
       "0         اقدم طريقه لاطاله القامه هي اطاله عظام الرجلين...\n",
       "1                                   انتظريها عالموعد الجديد\n",
       "2                                  تواصلي واتس للتوضيح اكثر\n",
       "3         يجب اولا عمل دوبلر علي كيس الصفن والجينسينج لت...\n",
       "4                                               راجعي طبيبك\n",
       "                                ...                        \n",
       "434538                                  خذي حبوب الجرافيولا\n",
       "434539    بالتاكيد اذا الحساسيههل مانع حمل فانتي عرضه للحمل\n",
       "434540        لا بابايا ولا مامايا هذا لونك الطبيعي وسلامتك\n",
       "434541                                    الاحتمال ضعيف جدا\n",
       "434542    حاله نفسيه عاديه عليك تحسين لياقتك البدنيه بمم...\n",
       "Name: a_body, Length: 434543, dtype: object"
      ]
     },
     "execution_count": 12,
     "metadata": {},
     "output_type": "execute_result"
    }
   ],
   "source": [
    "q_a['a_body']"
   ]
  },
  {
   "cell_type": "code",
   "execution_count": 30,
   "metadata": {},
   "outputs": [],
   "source": [
    "from langchain.agents import load_tools\n",
    "from langchain.agents import initialize_agent\n",
    "from langchain.agents import AgentType\n",
    "from langchain.llms import OpenAI\n",
    "from langchain.chat_models import ChatOpenAI\n",
    "from langchain import SQLDatabase"
   ]
  },
  {
   "cell_type": "code",
   "execution_count": 31,
   "metadata": {},
   "outputs": [],
   "source": []
  },
  {
   "cell_type": "code",
   "execution_count": 32,
   "metadata": {},
   "outputs": [],
   "source": []
  },
  {
   "cell_type": "code",
   "execution_count": 33,
   "metadata": {},
   "outputs": [],
   "source": [
    "from langchain.schema import HumanMessage, SystemMessage, AIMessage\n",
    "chat = ChatOpenAI(temperature=.7, openai_api_key=openai_api_key)"
   ]
  },
  {
   "cell_type": "code",
   "execution_count": 42,
   "metadata": {},
   "outputs": [
    {
     "data": {
      "text/plain": [
       "AIMessage(content='يجب عليك أخذ قسط من الراحة وتناول مسكن للصداع إذا لزم الأمر.')"
      ]
     },
     "execution_count": 42,
     "metadata": {},
     "output_type": "execute_result"
    }
   ],
   "source": [
    "chat(\n",
    "    [\n",
    "        SystemMessage(content=\"You are a helpful medical  AI bot that helps an arabian user to figure out what he should do in one sentence only\"),\n",
    "        HumanMessage(content=\"حاسس بصداع المفروض اعمل ايه\")\n",
    "    ]\n",
    ")"
   ]
  },
  {
   "cell_type": "code",
   "execution_count": 43,
   "metadata": {},
   "outputs": [],
   "source": [
    "from langchain.llms import OpenAI\n",
    "from langchain import LLMChain\n",
    "from langchain.prompts.prompt import PromptTemplate\n",
    "from langchain.memory import ConversationBufferMemory\n"
   ]
  },
  {
   "cell_type": "code",
   "execution_count": 44,
   "metadata": {},
   "outputs": [],
   "source": [
    "template = \"\"\"\n",
    "You are a medical chatbot that helps arabian users and answers their questions in short sentences\n",
    "\n",
    "{chat_history}\n",
    "Human: {human_input}\n",
    "Chatbot:\"\"\"\n",
    "\n",
    "prompt = PromptTemplate(\n",
    "    input_variables=[\"chat_history\", \"human_input\"], \n",
    "    template=template\n",
    ")\n",
    "memory = ConversationBufferMemory(memory_key=\"chat_history\")"
   ]
  },
  {
   "cell_type": "code",
   "execution_count": 45,
   "metadata": {},
   "outputs": [],
   "source": [
    "llm_chain = LLMChain(\n",
    "    llm=OpenAI(openai_api_key=openai_api_key), \n",
    "    prompt=prompt, \n",
    "    verbose=True, \n",
    "    memory=memory\n",
    ")"
   ]
  },
  {
   "cell_type": "code",
   "execution_count": 46,
   "metadata": {},
   "outputs": [
    {
     "name": "stdout",
     "output_type": "stream",
     "text": [
      "\n",
      "\n",
      "\u001b[1m> Entering new LLMChain chain...\u001b[0m\n",
      "Prompt after formatting:\n",
      "\u001b[32;1m\u001b[1;3m\n",
      "You are a medical chatbot that helps arabian users and answers their questions in short sentences\n",
      "\n",
      "\n",
      "Human: ازيك\n",
      "Chatbot:\u001b[0m\n",
      "\n",
      "\u001b[1m> Finished chain.\u001b[0m\n"
     ]
    },
    {
     "data": {
      "text/plain": [
       "' مرحبا بك. كيف يمكنني مساعدتك؟'"
      ]
     },
     "execution_count": 46,
     "metadata": {},
     "output_type": "execute_result"
    }
   ],
   "source": [
    "llm_chain.predict(human_input=\"ازيك\")"
   ]
  },
  {
   "cell_type": "code",
   "execution_count": 47,
   "metadata": {},
   "outputs": [
    {
     "name": "stdout",
     "output_type": "stream",
     "text": [
      "\n",
      "\n",
      "\u001b[1m> Entering new LLMChain chain...\u001b[0m\n",
      "Prompt after formatting:\n",
      "\u001b[32;1m\u001b[1;3m\n",
      "You are a medical chatbot that helps arabian users and answers their questions in short sentences\n",
      "\n",
      "Human: ازيك\n",
      "AI:  مرحبا بك. كيف يمكنني مساعدتك؟\n",
      "Human: انا اسمي احمد\n",
      "Chatbot:\u001b[0m\n",
      "\n",
      "\u001b[1m> Finished chain.\u001b[0m\n"
     ]
    },
    {
     "data": {
      "text/plain": [
       "' مرحبا احمد، كيف يمكنني مساعدتك؟'"
      ]
     },
     "execution_count": 47,
     "metadata": {},
     "output_type": "execute_result"
    }
   ],
   "source": [
    "llm_chain.predict(human_input=\"انا اسمي احمد\")"
   ]
  },
  {
   "cell_type": "code",
   "execution_count": 48,
   "metadata": {},
   "outputs": [
    {
     "name": "stdout",
     "output_type": "stream",
     "text": [
      "\n",
      "\n",
      "\u001b[1m> Entering new LLMChain chain...\u001b[0m\n",
      "Prompt after formatting:\n",
      "\u001b[32;1m\u001b[1;3m\n",
      "You are a medical chatbot that helps arabian users and answers their questions in short sentences\n",
      "\n",
      "Human: ازيك\n",
      "AI:  مرحبا بك. كيف يمكنني مساعدتك؟\n",
      "Human: انا اسمي احمد\n",
      "AI:  مرحبا احمد، كيف يمكنني مساعدتك؟\n",
      "Human: انا حاسس بصداع\n",
      "Chatbot:\u001b[0m\n",
      "\n",
      "\u001b[1m> Finished chain.\u001b[0m\n"
     ]
    },
    {
     "data": {
      "text/plain": [
       "' يبدو أنك تعاني من الصداع. هل يوجد أي شيء آخر يسبب الصداع؟'"
      ]
     },
     "execution_count": 48,
     "metadata": {},
     "output_type": "execute_result"
    }
   ],
   "source": [
    "llm_chain.predict(human_input=\"انا حاسس بصداع\")"
   ]
  },
  {
   "cell_type": "code",
   "execution_count": 49,
   "metadata": {},
   "outputs": [
    {
     "name": "stdout",
     "output_type": "stream",
     "text": [
      "\n",
      "\n",
      "\u001b[1m> Entering new LLMChain chain...\u001b[0m\n",
      "Prompt after formatting:\n",
      "\u001b[32;1m\u001b[1;3m\n",
      "You are a medical chatbot that helps arabian users and answers their questions in short sentences\n",
      "\n",
      "Human: ازيك\n",
      "AI:  مرحبا بك. كيف يمكنني مساعدتك؟\n",
      "Human: انا اسمي احمد\n",
      "AI:  مرحبا احمد، كيف يمكنني مساعدتك؟\n",
      "Human: انا حاسس بصداع\n",
      "AI:  يبدو أنك تعاني من الصداع. هل يوجد أي شيء آخر يسبب الصداع؟\n",
      "Human: لا هو صداع بس قولي اعمل ايه\n",
      "Chatbot:\u001b[0m\n",
      "\n",
      "\u001b[1m> Finished chain.\u001b[0m\n"
     ]
    },
    {
     "data": {
      "text/plain": [
       "' حاول الأطباء علاج الصداع الطبيعي مثل النوم الكافي، التدليك، والتغذية السليمة، والتدليك الداخلي للأعصاب.'"
      ]
     },
     "execution_count": 49,
     "metadata": {},
     "output_type": "execute_result"
    }
   ],
   "source": [
    "llm_chain.predict(human_input=\"لا هو صداع بس قولي اعمل ايه\")"
   ]
  },
  {
   "cell_type": "code",
   "execution_count": 51,
   "metadata": {},
   "outputs": [
    {
     "name": "stdout",
     "output_type": "stream",
     "text": [
      "\n",
      "\n",
      "\u001b[1m> Entering new LLMChain chain...\u001b[0m\n",
      "Prompt after formatting:\n",
      "\u001b[32;1m\u001b[1;3m\n",
      "You are a medical chatbot that helps arabian users and answers their questions in short sentences\n",
      "\n",
      "Human: ازيك\n",
      "AI:  مرحبا بك. كيف يمكنني مساعدتك؟\n",
      "Human: انا اسمي احمد\n",
      "AI:  مرحبا احمد، كيف يمكنني مساعدتك؟\n",
      "Human: انا حاسس بصداع\n",
      "AI:  يبدو أنك تعاني من الصداع. هل يوجد أي شيء آخر يسبب الصداع؟\n",
      "Human: لا هو صداع بس قولي اعمل ايه\n",
      "AI:  حاول الأطباء علاج الصداع الطبيعي مثل النوم الكافي، التدليك، والتغذية السليمة، والتدليك الداخلي للأعصاب.\n",
      "Human: انا اسمي ايه؟\n",
      "AI:  أنا بوت الدردشة الطبية، لم أسمع ذلك منك. كيف يمكنني مساعدتك؟\n",
      "Human: تمام شكرا\n",
      "Chatbot:\u001b[0m\n",
      "\n",
      "\u001b[1m> Finished chain.\u001b[0m\n"
     ]
    },
    {
     "data": {
      "text/plain": [
       "' أهلا بك! لا حاجة للشكر. كيف يمكنني مساعدتك؟'"
      ]
     },
     "execution_count": 51,
     "metadata": {},
     "output_type": "execute_result"
    }
   ],
   "source": [
    "llm_chain.predict(human_input=\"تمام شكرا\")"
   ]
  },
  {
   "cell_type": "code",
   "execution_count": null,
   "metadata": {},
   "outputs": [],
   "source": []
  }
 ],
 "metadata": {
  "kernelspec": {
   "display_name": "Python 3",
   "language": "python",
   "name": "python3"
  },
  "language_info": {
   "codemirror_mode": {
    "name": "ipython",
    "version": 3
   },
   "file_extension": ".py",
   "mimetype": "text/x-python",
   "name": "python",
   "nbconvert_exporter": "python",
   "pygments_lexer": "ipython3",
   "version": "3.11.3"
  }
 },
 "nbformat": 4,
 "nbformat_minor": 2
}
